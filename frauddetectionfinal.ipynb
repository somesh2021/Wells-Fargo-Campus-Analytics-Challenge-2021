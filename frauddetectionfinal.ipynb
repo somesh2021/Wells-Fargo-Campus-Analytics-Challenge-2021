{
 "cells": [
  {
   "cell_type": "markdown",
   "id": "baf71379-36d6-4651-a57e-9c07d21c8bb7",
   "metadata": {},
   "source": [
    "# Fraud Detection Model"
   ]
  },
  {
   "cell_type": "code",
   "execution_count": 1,
   "id": "ab6dbc8a-1c19-43a7-895a-1a56c9b529e3",
   "metadata": {},
   "outputs": [],
   "source": [
    "#import libraries\n",
    "from datetime import datetime\n",
    "import pandas as pd\n",
    "import numpy as np\n",
    "import warnings\n",
    "import matplotlib.pyplot as plt\n",
    "import seaborn as sns\n",
    "%matplotlib inline"
   ]
  },
  {
   "cell_type": "code",
   "execution_count": 2,
   "id": "5becb7a7-b1fc-4d41-9d46-55313b7bb80b",
   "metadata": {},
   "outputs": [
    {
     "data": {
      "text/html": [
       "<div>\n",
       "<style scoped>\n",
       "    .dataframe tbody tr th:only-of-type {\n",
       "        vertical-align: middle;\n",
       "    }\n",
       "\n",
       "    .dataframe tbody tr th {\n",
       "        vertical-align: top;\n",
       "    }\n",
       "\n",
       "    .dataframe thead th {\n",
       "        text-align: right;\n",
       "    }\n",
       "</style>\n",
       "<table border=\"1\" class=\"dataframe\">\n",
       "  <thead>\n",
       "    <tr style=\"text-align: right;\">\n",
       "      <th></th>\n",
       "      <th>TRAN_AMT</th>\n",
       "      <th>ACCT_PRE_TRAN_AVAIL_BAL</th>\n",
       "      <th>CUST_AGE</th>\n",
       "      <th>OPEN_ACCT_CT</th>\n",
       "      <th>WF_dvc_age</th>\n",
       "      <th>PWD_UPDT_TS</th>\n",
       "      <th>CARR_NAME</th>\n",
       "      <th>RGN_NAME</th>\n",
       "      <th>STATE_PRVNC_TXT</th>\n",
       "      <th>ALERT_TRGR_CD</th>\n",
       "      <th>...</th>\n",
       "      <th>CUST_STATE</th>\n",
       "      <th>PH_NUM_UPDT_TS</th>\n",
       "      <th>CUST_SINCE_DT</th>\n",
       "      <th>TRAN_TS</th>\n",
       "      <th>TRAN_DT</th>\n",
       "      <th>ACTN_CD</th>\n",
       "      <th>ACTN_INTNL_TXT</th>\n",
       "      <th>TRAN_TYPE_CD</th>\n",
       "      <th>ACTVY_DT</th>\n",
       "      <th>FRAUD_NONFRAUD</th>\n",
       "    </tr>\n",
       "  </thead>\n",
       "  <tbody>\n",
       "    <tr>\n",
       "      <th>3</th>\n",
       "      <td>0.01</td>\n",
       "      <td>0.00</td>\n",
       "      <td>62</td>\n",
       "      <td>3</td>\n",
       "      <td>835</td>\n",
       "      <td>2/8/2020 7:28:31</td>\n",
       "      <td>t-mobile usa  inc.</td>\n",
       "      <td>southwest</td>\n",
       "      <td>california</td>\n",
       "      <td>MOBL</td>\n",
       "      <td>...</td>\n",
       "      <td>NV</td>\n",
       "      <td>2/16/2019 6:45:37</td>\n",
       "      <td>2001-11-01</td>\n",
       "      <td>8/10/2021 15:28:31</td>\n",
       "      <td>8/10/2021</td>\n",
       "      <td>SCHPMT</td>\n",
       "      <td>P2P_COMMIT</td>\n",
       "      <td>P2P</td>\n",
       "      <td>8/10/2021</td>\n",
       "      <td>Non-Fraud</td>\n",
       "    </tr>\n",
       "    <tr>\n",
       "      <th>4</th>\n",
       "      <td>497.08</td>\n",
       "      <td>12725.18</td>\n",
       "      <td>81</td>\n",
       "      <td>2</td>\n",
       "      <td>1095</td>\n",
       "      <td>12/28/2020 12:12:44</td>\n",
       "      <td>cogent communications</td>\n",
       "      <td>south central</td>\n",
       "      <td>texas</td>\n",
       "      <td>MOBL</td>\n",
       "      <td>...</td>\n",
       "      <td>UT</td>\n",
       "      <td>5/8/2020 10:27:6</td>\n",
       "      <td>1987-02-07</td>\n",
       "      <td>6/27/2021 11:12:44</td>\n",
       "      <td>6/27/2021</td>\n",
       "      <td>SCHPMT</td>\n",
       "      <td>P2P_COMMIT</td>\n",
       "      <td>P2P</td>\n",
       "      <td>6/27/2021</td>\n",
       "      <td>Fraud</td>\n",
       "    </tr>\n",
       "    <tr>\n",
       "      <th>9</th>\n",
       "      <td>14.23</td>\n",
       "      <td>1890.65</td>\n",
       "      <td>72</td>\n",
       "      <td>4</td>\n",
       "      <td>276</td>\n",
       "      <td>4/22/2020 9:56:55</td>\n",
       "      <td>NaN</td>\n",
       "      <td>NaN</td>\n",
       "      <td>NaN</td>\n",
       "      <td>ONLN</td>\n",
       "      <td>...</td>\n",
       "      <td>VA</td>\n",
       "      <td>5/12/2017 10:54:10</td>\n",
       "      <td>1976-12-23</td>\n",
       "      <td>3/3/2021 7:14:46</td>\n",
       "      <td>3/3/2021</td>\n",
       "      <td>SCHPMT</td>\n",
       "      <td>P2P_COMMIT</td>\n",
       "      <td>P2P</td>\n",
       "      <td>3/3/2021</td>\n",
       "      <td>Fraud</td>\n",
       "    </tr>\n",
       "    <tr>\n",
       "      <th>13</th>\n",
       "      <td>476.36</td>\n",
       "      <td>28.82</td>\n",
       "      <td>64</td>\n",
       "      <td>11</td>\n",
       "      <td>1200</td>\n",
       "      <td>NaN</td>\n",
       "      <td>t-mobile usa  inc.</td>\n",
       "      <td>southwest</td>\n",
       "      <td>california</td>\n",
       "      <td>ONLN</td>\n",
       "      <td>...</td>\n",
       "      <td>AZ</td>\n",
       "      <td>5/6/2019 6:27:47</td>\n",
       "      <td>1993-10-09</td>\n",
       "      <td>4/20/2021 10:0:51</td>\n",
       "      <td>4/20/2021</td>\n",
       "      <td>SCHPMT</td>\n",
       "      <td>P2P_COMMIT</td>\n",
       "      <td>P2P</td>\n",
       "      <td>4/20/2021</td>\n",
       "      <td>Non-Fraud</td>\n",
       "    </tr>\n",
       "    <tr>\n",
       "      <th>15</th>\n",
       "      <td>27.11</td>\n",
       "      <td>0.00</td>\n",
       "      <td>76</td>\n",
       "      <td>4</td>\n",
       "      <td>45</td>\n",
       "      <td>8/17/2020 10:7:20</td>\n",
       "      <td>charter communications inc</td>\n",
       "      <td>southwest</td>\n",
       "      <td>california</td>\n",
       "      <td>MOBL</td>\n",
       "      <td>...</td>\n",
       "      <td>CA</td>\n",
       "      <td>6/8/2020 19:45:37</td>\n",
       "      <td>2001-02-07</td>\n",
       "      <td>1/31/2021 21:0:51</td>\n",
       "      <td>1/31/2021</td>\n",
       "      <td>SCHPMT</td>\n",
       "      <td>P2P_COMMIT</td>\n",
       "      <td>P2P</td>\n",
       "      <td>1/31/2021</td>\n",
       "      <td>Non-Fraud</td>\n",
       "    </tr>\n",
       "  </tbody>\n",
       "</table>\n",
       "<p>5 rows × 24 columns</p>\n",
       "</div>"
      ],
      "text/plain": [
       "    TRAN_AMT  ACCT_PRE_TRAN_AVAIL_BAL  CUST_AGE  OPEN_ACCT_CT  WF_dvc_age  \\\n",
       "3       0.01                     0.00        62             3         835   \n",
       "4     497.08                 12725.18        81             2        1095   \n",
       "9      14.23                  1890.65        72             4         276   \n",
       "13    476.36                    28.82        64            11        1200   \n",
       "15     27.11                     0.00        76             4          45   \n",
       "\n",
       "            PWD_UPDT_TS                   CARR_NAME       RGN_NAME  \\\n",
       "3      2/8/2020 7:28:31          t-mobile usa  inc.      southwest   \n",
       "4   12/28/2020 12:12:44       cogent communications  south central   \n",
       "9     4/22/2020 9:56:55                         NaN            NaN   \n",
       "13                  NaN          t-mobile usa  inc.      southwest   \n",
       "15    8/17/2020 10:7:20  charter communications inc      southwest   \n",
       "\n",
       "   STATE_PRVNC_TXT ALERT_TRGR_CD  ... CUST_STATE      PH_NUM_UPDT_TS  \\\n",
       "3       california          MOBL  ...         NV   2/16/2019 6:45:37   \n",
       "4            texas          MOBL  ...         UT    5/8/2020 10:27:6   \n",
       "9              NaN          ONLN  ...         VA  5/12/2017 10:54:10   \n",
       "13      california          ONLN  ...         AZ    5/6/2019 6:27:47   \n",
       "15      california          MOBL  ...         CA   6/8/2020 19:45:37   \n",
       "\n",
       "   CUST_SINCE_DT             TRAN_TS    TRAN_DT ACTN_CD ACTN_INTNL_TXT  \\\n",
       "3     2001-11-01  8/10/2021 15:28:31  8/10/2021  SCHPMT     P2P_COMMIT   \n",
       "4     1987-02-07  6/27/2021 11:12:44  6/27/2021  SCHPMT     P2P_COMMIT   \n",
       "9     1976-12-23    3/3/2021 7:14:46   3/3/2021  SCHPMT     P2P_COMMIT   \n",
       "13    1993-10-09   4/20/2021 10:0:51  4/20/2021  SCHPMT     P2P_COMMIT   \n",
       "15    2001-02-07   1/31/2021 21:0:51  1/31/2021  SCHPMT     P2P_COMMIT   \n",
       "\n",
       "   TRAN_TYPE_CD   ACTVY_DT FRAUD_NONFRAUD  \n",
       "3           P2P  8/10/2021      Non-Fraud  \n",
       "4           P2P  6/27/2021          Fraud  \n",
       "9           P2P   3/3/2021          Fraud  \n",
       "13          P2P  4/20/2021      Non-Fraud  \n",
       "15          P2P  1/31/2021      Non-Fraud  \n",
       "\n",
       "[5 rows x 24 columns]"
      ]
     },
     "execution_count": 2,
     "metadata": {},
     "output_type": "execute_result"
    }
   ],
   "source": [
    "#load training dataset\n",
    "df = pd.read_excel('trainset.xlsx')\n",
    "df.shape\n",
    "df = df[df.CUST_AGE >= 60]\n",
    "df.head()"
   ]
  },
  {
   "cell_type": "markdown",
   "id": "35702a7c-d5d4-49b7-9e61-e7badb8e5813",
   "metadata": {},
   "source": [
    "# Exploratory Data Analysis"
   ]
  },
  {
   "cell_type": "code",
   "execution_count": 3,
   "id": "e87c97c8-45f0-4934-b241-196518dd3802",
   "metadata": {},
   "outputs": [],
   "source": [
    "df.FRAUD_NONFRAUD = pd.Categorical(df.FRAUD_NONFRAUD)\n",
    "df['fraud_code'] = df.FRAUD_NONFRAUD.cat.codes"
   ]
  },
  {
   "cell_type": "code",
   "execution_count": 4,
   "id": "759d656b-4d77-48cf-892f-027a052840ed",
   "metadata": {},
   "outputs": [
    {
     "data": {
      "text/html": [
       "<div>\n",
       "<style scoped>\n",
       "    .dataframe tbody tr th:only-of-type {\n",
       "        vertical-align: middle;\n",
       "    }\n",
       "\n",
       "    .dataframe tbody tr th {\n",
       "        vertical-align: top;\n",
       "    }\n",
       "\n",
       "    .dataframe thead th {\n",
       "        text-align: right;\n",
       "    }\n",
       "</style>\n",
       "<table border=\"1\" class=\"dataframe\">\n",
       "  <thead>\n",
       "    <tr style=\"text-align: right;\">\n",
       "      <th></th>\n",
       "      <th>TRAN_AMT</th>\n",
       "      <th>ACCT_PRE_TRAN_AVAIL_BAL</th>\n",
       "      <th>CUST_AGE</th>\n",
       "      <th>OPEN_ACCT_CT</th>\n",
       "      <th>WF_dvc_age</th>\n",
       "      <th>PWD_UPDT_TS</th>\n",
       "      <th>CARR_NAME</th>\n",
       "      <th>RGN_NAME</th>\n",
       "      <th>STATE_PRVNC_TXT</th>\n",
       "      <th>ALERT_TRGR_CD</th>\n",
       "      <th>...</th>\n",
       "      <th>PH_NUM_UPDT_TS</th>\n",
       "      <th>CUST_SINCE_DT</th>\n",
       "      <th>TRAN_TS</th>\n",
       "      <th>TRAN_DT</th>\n",
       "      <th>ACTN_CD</th>\n",
       "      <th>ACTN_INTNL_TXT</th>\n",
       "      <th>TRAN_TYPE_CD</th>\n",
       "      <th>ACTVY_DT</th>\n",
       "      <th>FRAUD_NONFRAUD</th>\n",
       "      <th>fraud_code</th>\n",
       "    </tr>\n",
       "  </thead>\n",
       "  <tbody>\n",
       "    <tr>\n",
       "      <th>3</th>\n",
       "      <td>0.01</td>\n",
       "      <td>0.00</td>\n",
       "      <td>62</td>\n",
       "      <td>3</td>\n",
       "      <td>835</td>\n",
       "      <td>2/8/2020 7:28:31</td>\n",
       "      <td>t-mobile usa  inc.</td>\n",
       "      <td>southwest</td>\n",
       "      <td>california</td>\n",
       "      <td>MOBL</td>\n",
       "      <td>...</td>\n",
       "      <td>2/16/2019 6:45:37</td>\n",
       "      <td>2001-11-01</td>\n",
       "      <td>8/10/2021 15:28:31</td>\n",
       "      <td>8/10/2021</td>\n",
       "      <td>SCHPMT</td>\n",
       "      <td>P2P_COMMIT</td>\n",
       "      <td>P2P</td>\n",
       "      <td>8/10/2021</td>\n",
       "      <td>Non-Fraud</td>\n",
       "      <td>1</td>\n",
       "    </tr>\n",
       "    <tr>\n",
       "      <th>4</th>\n",
       "      <td>497.08</td>\n",
       "      <td>12725.18</td>\n",
       "      <td>81</td>\n",
       "      <td>2</td>\n",
       "      <td>1095</td>\n",
       "      <td>12/28/2020 12:12:44</td>\n",
       "      <td>cogent communications</td>\n",
       "      <td>south central</td>\n",
       "      <td>texas</td>\n",
       "      <td>MOBL</td>\n",
       "      <td>...</td>\n",
       "      <td>5/8/2020 10:27:6</td>\n",
       "      <td>1987-02-07</td>\n",
       "      <td>6/27/2021 11:12:44</td>\n",
       "      <td>6/27/2021</td>\n",
       "      <td>SCHPMT</td>\n",
       "      <td>P2P_COMMIT</td>\n",
       "      <td>P2P</td>\n",
       "      <td>6/27/2021</td>\n",
       "      <td>Fraud</td>\n",
       "      <td>0</td>\n",
       "    </tr>\n",
       "    <tr>\n",
       "      <th>9</th>\n",
       "      <td>14.23</td>\n",
       "      <td>1890.65</td>\n",
       "      <td>72</td>\n",
       "      <td>4</td>\n",
       "      <td>276</td>\n",
       "      <td>4/22/2020 9:56:55</td>\n",
       "      <td>NaN</td>\n",
       "      <td>NaN</td>\n",
       "      <td>NaN</td>\n",
       "      <td>ONLN</td>\n",
       "      <td>...</td>\n",
       "      <td>5/12/2017 10:54:10</td>\n",
       "      <td>1976-12-23</td>\n",
       "      <td>3/3/2021 7:14:46</td>\n",
       "      <td>3/3/2021</td>\n",
       "      <td>SCHPMT</td>\n",
       "      <td>P2P_COMMIT</td>\n",
       "      <td>P2P</td>\n",
       "      <td>3/3/2021</td>\n",
       "      <td>Fraud</td>\n",
       "      <td>0</td>\n",
       "    </tr>\n",
       "    <tr>\n",
       "      <th>13</th>\n",
       "      <td>476.36</td>\n",
       "      <td>28.82</td>\n",
       "      <td>64</td>\n",
       "      <td>11</td>\n",
       "      <td>1200</td>\n",
       "      <td>NaN</td>\n",
       "      <td>t-mobile usa  inc.</td>\n",
       "      <td>southwest</td>\n",
       "      <td>california</td>\n",
       "      <td>ONLN</td>\n",
       "      <td>...</td>\n",
       "      <td>5/6/2019 6:27:47</td>\n",
       "      <td>1993-10-09</td>\n",
       "      <td>4/20/2021 10:0:51</td>\n",
       "      <td>4/20/2021</td>\n",
       "      <td>SCHPMT</td>\n",
       "      <td>P2P_COMMIT</td>\n",
       "      <td>P2P</td>\n",
       "      <td>4/20/2021</td>\n",
       "      <td>Non-Fraud</td>\n",
       "      <td>1</td>\n",
       "    </tr>\n",
       "    <tr>\n",
       "      <th>15</th>\n",
       "      <td>27.11</td>\n",
       "      <td>0.00</td>\n",
       "      <td>76</td>\n",
       "      <td>4</td>\n",
       "      <td>45</td>\n",
       "      <td>8/17/2020 10:7:20</td>\n",
       "      <td>charter communications inc</td>\n",
       "      <td>southwest</td>\n",
       "      <td>california</td>\n",
       "      <td>MOBL</td>\n",
       "      <td>...</td>\n",
       "      <td>6/8/2020 19:45:37</td>\n",
       "      <td>2001-02-07</td>\n",
       "      <td>1/31/2021 21:0:51</td>\n",
       "      <td>1/31/2021</td>\n",
       "      <td>SCHPMT</td>\n",
       "      <td>P2P_COMMIT</td>\n",
       "      <td>P2P</td>\n",
       "      <td>1/31/2021</td>\n",
       "      <td>Non-Fraud</td>\n",
       "      <td>1</td>\n",
       "    </tr>\n",
       "  </tbody>\n",
       "</table>\n",
       "<p>5 rows × 25 columns</p>\n",
       "</div>"
      ],
      "text/plain": [
       "    TRAN_AMT  ACCT_PRE_TRAN_AVAIL_BAL  CUST_AGE  OPEN_ACCT_CT  WF_dvc_age  \\\n",
       "3       0.01                     0.00        62             3         835   \n",
       "4     497.08                 12725.18        81             2        1095   \n",
       "9      14.23                  1890.65        72             4         276   \n",
       "13    476.36                    28.82        64            11        1200   \n",
       "15     27.11                     0.00        76             4          45   \n",
       "\n",
       "            PWD_UPDT_TS                   CARR_NAME       RGN_NAME  \\\n",
       "3      2/8/2020 7:28:31          t-mobile usa  inc.      southwest   \n",
       "4   12/28/2020 12:12:44       cogent communications  south central   \n",
       "9     4/22/2020 9:56:55                         NaN            NaN   \n",
       "13                  NaN          t-mobile usa  inc.      southwest   \n",
       "15    8/17/2020 10:7:20  charter communications inc      southwest   \n",
       "\n",
       "   STATE_PRVNC_TXT ALERT_TRGR_CD  ...      PH_NUM_UPDT_TS CUST_SINCE_DT  \\\n",
       "3       california          MOBL  ...   2/16/2019 6:45:37    2001-11-01   \n",
       "4            texas          MOBL  ...    5/8/2020 10:27:6    1987-02-07   \n",
       "9              NaN          ONLN  ...  5/12/2017 10:54:10    1976-12-23   \n",
       "13      california          ONLN  ...    5/6/2019 6:27:47    1993-10-09   \n",
       "15      california          MOBL  ...   6/8/2020 19:45:37    2001-02-07   \n",
       "\n",
       "               TRAN_TS    TRAN_DT ACTN_CD ACTN_INTNL_TXT TRAN_TYPE_CD  \\\n",
       "3   8/10/2021 15:28:31  8/10/2021  SCHPMT     P2P_COMMIT          P2P   \n",
       "4   6/27/2021 11:12:44  6/27/2021  SCHPMT     P2P_COMMIT          P2P   \n",
       "9     3/3/2021 7:14:46   3/3/2021  SCHPMT     P2P_COMMIT          P2P   \n",
       "13   4/20/2021 10:0:51  4/20/2021  SCHPMT     P2P_COMMIT          P2P   \n",
       "15   1/31/2021 21:0:51  1/31/2021  SCHPMT     P2P_COMMIT          P2P   \n",
       "\n",
       "     ACTVY_DT FRAUD_NONFRAUD fraud_code  \n",
       "3   8/10/2021      Non-Fraud          1  \n",
       "4   6/27/2021          Fraud          0  \n",
       "9    3/3/2021          Fraud          0  \n",
       "13  4/20/2021      Non-Fraud          1  \n",
       "15  1/31/2021      Non-Fraud          1  \n",
       "\n",
       "[5 rows x 25 columns]"
      ]
     },
     "execution_count": 4,
     "metadata": {},
     "output_type": "execute_result"
    }
   ],
   "source": [
    "df.head()"
   ]
  },
  {
   "cell_type": "code",
   "execution_count": 5,
   "id": "0dd46408-273e-45f7-8295-f6ed7a28dcee",
   "metadata": {},
   "outputs": [
    {
     "name": "stdout",
     "output_type": "stream",
     "text": [
      "<class 'pandas.core.frame.DataFrame'>\n",
      "Int64Index: 6920 entries, 3 to 13999\n",
      "Data columns (total 25 columns):\n",
      " #   Column                   Non-Null Count  Dtype         \n",
      "---  ------                   --------------  -----         \n",
      " 0   TRAN_AMT                 6920 non-null   float64       \n",
      " 1   ACCT_PRE_TRAN_AVAIL_BAL  6920 non-null   float64       \n",
      " 2   CUST_AGE                 6920 non-null   int64         \n",
      " 3   OPEN_ACCT_CT             6920 non-null   int64         \n",
      " 4   WF_dvc_age               6920 non-null   int64         \n",
      " 5   PWD_UPDT_TS              5465 non-null   object        \n",
      " 6   CARR_NAME                5522 non-null   object        \n",
      " 7   RGN_NAME                 5522 non-null   object        \n",
      " 8   STATE_PRVNC_TXT          5522 non-null   object        \n",
      " 9   ALERT_TRGR_CD            6920 non-null   object        \n",
      " 10  DVC_TYPE_TXT             6046 non-null   object        \n",
      " 11  AUTHC_PRIM_TYPE_CD       6920 non-null   object        \n",
      " 12  AUTHC_SCNDRY_STAT_TXT    6886 non-null   object        \n",
      " 13  CUST_ZIP                 6920 non-null   int64         \n",
      " 14  CUST_STATE               6896 non-null   object        \n",
      " 15  PH_NUM_UPDT_TS           3355 non-null   object        \n",
      " 16  CUST_SINCE_DT            6920 non-null   datetime64[ns]\n",
      " 17  TRAN_TS                  6920 non-null   object        \n",
      " 18  TRAN_DT                  6920 non-null   object        \n",
      " 19  ACTN_CD                  6920 non-null   object        \n",
      " 20  ACTN_INTNL_TXT           6920 non-null   object        \n",
      " 21  TRAN_TYPE_CD             6920 non-null   object        \n",
      " 22  ACTVY_DT                 6920 non-null   object        \n",
      " 23  FRAUD_NONFRAUD           6920 non-null   category      \n",
      " 24  fraud_code               6920 non-null   int8          \n",
      "dtypes: category(1), datetime64[ns](1), float64(2), int64(4), int8(1), object(16)\n",
      "memory usage: 1.3+ MB\n"
     ]
    }
   ],
   "source": [
    "df.info()"
   ]
  },
  {
   "cell_type": "code",
   "execution_count": 6,
   "id": "da93ed1f-e1cb-41e7-90ed-7334514af9a4",
   "metadata": {},
   "outputs": [],
   "source": [
    "df.CUST_AGE = df.CUST_AGE.astype('float64')\n",
    "df.OPEN_ACCT_CT = df.OPEN_ACCT_CT.astype('float64')\n",
    "df.WF_dvc_age = df.WF_dvc_age.astype('float64')"
   ]
  },
  {
   "cell_type": "code",
   "execution_count": 7,
   "id": "b4e56c05-9e1c-47f6-8620-ebf3b803a2f6",
   "metadata": {},
   "outputs": [
    {
     "data": {
      "text/html": [
       "<div>\n",
       "<style scoped>\n",
       "    .dataframe tbody tr th:only-of-type {\n",
       "        vertical-align: middle;\n",
       "    }\n",
       "\n",
       "    .dataframe tbody tr th {\n",
       "        vertical-align: top;\n",
       "    }\n",
       "\n",
       "    .dataframe thead th {\n",
       "        text-align: right;\n",
       "    }\n",
       "</style>\n",
       "<table border=\"1\" class=\"dataframe\">\n",
       "  <thead>\n",
       "    <tr style=\"text-align: right;\">\n",
       "      <th></th>\n",
       "      <th>TRAN_AMT</th>\n",
       "      <th>ACCT_PRE_TRAN_AVAIL_BAL</th>\n",
       "      <th>CUST_AGE</th>\n",
       "      <th>OPEN_ACCT_CT</th>\n",
       "      <th>WF_dvc_age</th>\n",
       "      <th>PWD_UPDT_TS</th>\n",
       "      <th>CARR_NAME</th>\n",
       "      <th>RGN_NAME</th>\n",
       "      <th>STATE_PRVNC_TXT</th>\n",
       "      <th>ALERT_TRGR_CD</th>\n",
       "      <th>...</th>\n",
       "      <th>PH_NUM_UPDT_TS</th>\n",
       "      <th>CUST_SINCE_DT</th>\n",
       "      <th>TRAN_TS</th>\n",
       "      <th>TRAN_DT</th>\n",
       "      <th>ACTN_CD</th>\n",
       "      <th>ACTN_INTNL_TXT</th>\n",
       "      <th>TRAN_TYPE_CD</th>\n",
       "      <th>ACTVY_DT</th>\n",
       "      <th>FRAUD_NONFRAUD</th>\n",
       "      <th>fraud_code</th>\n",
       "    </tr>\n",
       "  </thead>\n",
       "  <tbody>\n",
       "    <tr>\n",
       "      <th>3</th>\n",
       "      <td>0.01</td>\n",
       "      <td>0.00</td>\n",
       "      <td>62.0</td>\n",
       "      <td>3.0</td>\n",
       "      <td>835.0</td>\n",
       "      <td>2/8/2020 7:28:31</td>\n",
       "      <td>t-mobile usa  inc.</td>\n",
       "      <td>southwest</td>\n",
       "      <td>california</td>\n",
       "      <td>MOBL</td>\n",
       "      <td>...</td>\n",
       "      <td>2/16/2019 6:45:37</td>\n",
       "      <td>2001-11-01</td>\n",
       "      <td>8/10/2021 15:28:31</td>\n",
       "      <td>8/10/2021</td>\n",
       "      <td>SCHPMT</td>\n",
       "      <td>P2P_COMMIT</td>\n",
       "      <td>P2P</td>\n",
       "      <td>8/10/2021</td>\n",
       "      <td>Non-Fraud</td>\n",
       "      <td>1</td>\n",
       "    </tr>\n",
       "    <tr>\n",
       "      <th>4</th>\n",
       "      <td>497.08</td>\n",
       "      <td>12725.18</td>\n",
       "      <td>81.0</td>\n",
       "      <td>2.0</td>\n",
       "      <td>1095.0</td>\n",
       "      <td>12/28/2020 12:12:44</td>\n",
       "      <td>cogent communications</td>\n",
       "      <td>south central</td>\n",
       "      <td>texas</td>\n",
       "      <td>MOBL</td>\n",
       "      <td>...</td>\n",
       "      <td>5/8/2020 10:27:6</td>\n",
       "      <td>1987-02-07</td>\n",
       "      <td>6/27/2021 11:12:44</td>\n",
       "      <td>6/27/2021</td>\n",
       "      <td>SCHPMT</td>\n",
       "      <td>P2P_COMMIT</td>\n",
       "      <td>P2P</td>\n",
       "      <td>6/27/2021</td>\n",
       "      <td>Fraud</td>\n",
       "      <td>0</td>\n",
       "    </tr>\n",
       "    <tr>\n",
       "      <th>9</th>\n",
       "      <td>14.23</td>\n",
       "      <td>1890.65</td>\n",
       "      <td>72.0</td>\n",
       "      <td>4.0</td>\n",
       "      <td>276.0</td>\n",
       "      <td>4/22/2020 9:56:55</td>\n",
       "      <td>NaN</td>\n",
       "      <td>NaN</td>\n",
       "      <td>NaN</td>\n",
       "      <td>ONLN</td>\n",
       "      <td>...</td>\n",
       "      <td>5/12/2017 10:54:10</td>\n",
       "      <td>1976-12-23</td>\n",
       "      <td>3/3/2021 7:14:46</td>\n",
       "      <td>3/3/2021</td>\n",
       "      <td>SCHPMT</td>\n",
       "      <td>P2P_COMMIT</td>\n",
       "      <td>P2P</td>\n",
       "      <td>3/3/2021</td>\n",
       "      <td>Fraud</td>\n",
       "      <td>0</td>\n",
       "    </tr>\n",
       "    <tr>\n",
       "      <th>13</th>\n",
       "      <td>476.36</td>\n",
       "      <td>28.82</td>\n",
       "      <td>64.0</td>\n",
       "      <td>11.0</td>\n",
       "      <td>1200.0</td>\n",
       "      <td>NaN</td>\n",
       "      <td>t-mobile usa  inc.</td>\n",
       "      <td>southwest</td>\n",
       "      <td>california</td>\n",
       "      <td>ONLN</td>\n",
       "      <td>...</td>\n",
       "      <td>5/6/2019 6:27:47</td>\n",
       "      <td>1993-10-09</td>\n",
       "      <td>4/20/2021 10:0:51</td>\n",
       "      <td>4/20/2021</td>\n",
       "      <td>SCHPMT</td>\n",
       "      <td>P2P_COMMIT</td>\n",
       "      <td>P2P</td>\n",
       "      <td>4/20/2021</td>\n",
       "      <td>Non-Fraud</td>\n",
       "      <td>1</td>\n",
       "    </tr>\n",
       "    <tr>\n",
       "      <th>15</th>\n",
       "      <td>27.11</td>\n",
       "      <td>0.00</td>\n",
       "      <td>76.0</td>\n",
       "      <td>4.0</td>\n",
       "      <td>45.0</td>\n",
       "      <td>8/17/2020 10:7:20</td>\n",
       "      <td>charter communications inc</td>\n",
       "      <td>southwest</td>\n",
       "      <td>california</td>\n",
       "      <td>MOBL</td>\n",
       "      <td>...</td>\n",
       "      <td>6/8/2020 19:45:37</td>\n",
       "      <td>2001-02-07</td>\n",
       "      <td>1/31/2021 21:0:51</td>\n",
       "      <td>1/31/2021</td>\n",
       "      <td>SCHPMT</td>\n",
       "      <td>P2P_COMMIT</td>\n",
       "      <td>P2P</td>\n",
       "      <td>1/31/2021</td>\n",
       "      <td>Non-Fraud</td>\n",
       "      <td>1</td>\n",
       "    </tr>\n",
       "  </tbody>\n",
       "</table>\n",
       "<p>5 rows × 25 columns</p>\n",
       "</div>"
      ],
      "text/plain": [
       "    TRAN_AMT  ACCT_PRE_TRAN_AVAIL_BAL  CUST_AGE  OPEN_ACCT_CT  WF_dvc_age  \\\n",
       "3       0.01                     0.00      62.0           3.0       835.0   \n",
       "4     497.08                 12725.18      81.0           2.0      1095.0   \n",
       "9      14.23                  1890.65      72.0           4.0       276.0   \n",
       "13    476.36                    28.82      64.0          11.0      1200.0   \n",
       "15     27.11                     0.00      76.0           4.0        45.0   \n",
       "\n",
       "            PWD_UPDT_TS                   CARR_NAME       RGN_NAME  \\\n",
       "3      2/8/2020 7:28:31          t-mobile usa  inc.      southwest   \n",
       "4   12/28/2020 12:12:44       cogent communications  south central   \n",
       "9     4/22/2020 9:56:55                         NaN            NaN   \n",
       "13                  NaN          t-mobile usa  inc.      southwest   \n",
       "15    8/17/2020 10:7:20  charter communications inc      southwest   \n",
       "\n",
       "   STATE_PRVNC_TXT ALERT_TRGR_CD  ...      PH_NUM_UPDT_TS CUST_SINCE_DT  \\\n",
       "3       california          MOBL  ...   2/16/2019 6:45:37    2001-11-01   \n",
       "4            texas          MOBL  ...    5/8/2020 10:27:6    1987-02-07   \n",
       "9              NaN          ONLN  ...  5/12/2017 10:54:10    1976-12-23   \n",
       "13      california          ONLN  ...    5/6/2019 6:27:47    1993-10-09   \n",
       "15      california          MOBL  ...   6/8/2020 19:45:37    2001-02-07   \n",
       "\n",
       "               TRAN_TS    TRAN_DT ACTN_CD ACTN_INTNL_TXT TRAN_TYPE_CD  \\\n",
       "3   8/10/2021 15:28:31  8/10/2021  SCHPMT     P2P_COMMIT          P2P   \n",
       "4   6/27/2021 11:12:44  6/27/2021  SCHPMT     P2P_COMMIT          P2P   \n",
       "9     3/3/2021 7:14:46   3/3/2021  SCHPMT     P2P_COMMIT          P2P   \n",
       "13   4/20/2021 10:0:51  4/20/2021  SCHPMT     P2P_COMMIT          P2P   \n",
       "15   1/31/2021 21:0:51  1/31/2021  SCHPMT     P2P_COMMIT          P2P   \n",
       "\n",
       "     ACTVY_DT FRAUD_NONFRAUD fraud_code  \n",
       "3   8/10/2021      Non-Fraud          1  \n",
       "4   6/27/2021          Fraud          0  \n",
       "9    3/3/2021          Fraud          0  \n",
       "13  4/20/2021      Non-Fraud          1  \n",
       "15  1/31/2021      Non-Fraud          1  \n",
       "\n",
       "[5 rows x 25 columns]"
      ]
     },
     "execution_count": 7,
     "metadata": {},
     "output_type": "execute_result"
    }
   ],
   "source": [
    "df.head()"
   ]
  },
  {
   "cell_type": "code",
   "execution_count": 8,
   "id": "3894a61f-eea1-4084-90f4-7dd973556c3c",
   "metadata": {},
   "outputs": [],
   "source": [
    "df.to_excel('filteredtrainset.xlsx')"
   ]
  },
  {
   "cell_type": "code",
   "execution_count": 9,
   "id": "213d464f-e694-4637-8d75-be2c98ca66b3",
   "metadata": {},
   "outputs": [],
   "source": [
    "duplicate = df[df.duplicated()]"
   ]
  },
  {
   "cell_type": "code",
   "execution_count": 10,
   "id": "45e17533-4db2-4ef9-b28c-a4a99afb7ad7",
   "metadata": {},
   "outputs": [
    {
     "name": "stdout",
     "output_type": "stream",
     "text": [
      "Empty DataFrame\n",
      "Columns: [TRAN_AMT, ACCT_PRE_TRAN_AVAIL_BAL, CUST_AGE, OPEN_ACCT_CT, WF_dvc_age, PWD_UPDT_TS, CARR_NAME, RGN_NAME, STATE_PRVNC_TXT, ALERT_TRGR_CD, DVC_TYPE_TXT, AUTHC_PRIM_TYPE_CD, AUTHC_SCNDRY_STAT_TXT, CUST_ZIP, CUST_STATE, PH_NUM_UPDT_TS, CUST_SINCE_DT, TRAN_TS, TRAN_DT, ACTN_CD, ACTN_INTNL_TXT, TRAN_TYPE_CD, ACTVY_DT, FRAUD_NONFRAUD, fraud_code]\n",
      "Index: []\n",
      "\n",
      "[0 rows x 25 columns]\n"
     ]
    }
   ],
   "source": [
    "print(duplicate)"
   ]
  },
  {
   "cell_type": "code",
   "execution_count": 12,
   "id": "f8f1ee4f-d55b-49f7-8784-e5e4cd1243d7",
   "metadata": {},
   "outputs": [],
   "source": [
    "df.ALERT_TRGR_CD = pd.Categorical(df.ALERT_TRGR_CD)\n",
    "df['alert_code'] = df.ALERT_TRGR_CD.cat.codes\n",
    "df.AUTHC_PRIM_TYPE_CD = pd.Categorical(df.AUTHC_PRIM_TYPE_CD)\n",
    "df['auth_code'] = df.AUTHC_PRIM_TYPE_CD.cat.codes"
   ]
  },
  {
   "cell_type": "code",
   "execution_count": 13,
   "id": "6afbbf85-7dc2-4474-994e-4fff4f966f7b",
   "metadata": {},
   "outputs": [
    {
     "data": {
      "text/html": [
       "<div>\n",
       "<style scoped>\n",
       "    .dataframe tbody tr th:only-of-type {\n",
       "        vertical-align: middle;\n",
       "    }\n",
       "\n",
       "    .dataframe tbody tr th {\n",
       "        vertical-align: top;\n",
       "    }\n",
       "\n",
       "    .dataframe thead th {\n",
       "        text-align: right;\n",
       "    }\n",
       "</style>\n",
       "<table border=\"1\" class=\"dataframe\">\n",
       "  <thead>\n",
       "    <tr style=\"text-align: right;\">\n",
       "      <th></th>\n",
       "      <th>TRAN_AMT</th>\n",
       "      <th>ACCT_PRE_TRAN_AVAIL_BAL</th>\n",
       "      <th>CUST_AGE</th>\n",
       "      <th>OPEN_ACCT_CT</th>\n",
       "      <th>WF_dvc_age</th>\n",
       "      <th>PWD_UPDT_TS</th>\n",
       "      <th>CARR_NAME</th>\n",
       "      <th>RGN_NAME</th>\n",
       "      <th>STATE_PRVNC_TXT</th>\n",
       "      <th>ALERT_TRGR_CD</th>\n",
       "      <th>...</th>\n",
       "      <th>TRAN_TS</th>\n",
       "      <th>TRAN_DT</th>\n",
       "      <th>ACTN_CD</th>\n",
       "      <th>ACTN_INTNL_TXT</th>\n",
       "      <th>TRAN_TYPE_CD</th>\n",
       "      <th>ACTVY_DT</th>\n",
       "      <th>FRAUD_NONFRAUD</th>\n",
       "      <th>fraud_code</th>\n",
       "      <th>alert_code</th>\n",
       "      <th>auth_code</th>\n",
       "    </tr>\n",
       "  </thead>\n",
       "  <tbody>\n",
       "    <tr>\n",
       "      <th>3</th>\n",
       "      <td>0.01</td>\n",
       "      <td>0.00</td>\n",
       "      <td>62.0</td>\n",
       "      <td>3.0</td>\n",
       "      <td>835.0</td>\n",
       "      <td>2/8/2020 7:28:31</td>\n",
       "      <td>t-mobile usa  inc.</td>\n",
       "      <td>southwest</td>\n",
       "      <td>california</td>\n",
       "      <td>MOBL</td>\n",
       "      <td>...</td>\n",
       "      <td>8/10/2021 15:28:31</td>\n",
       "      <td>8/10/2021</td>\n",
       "      <td>SCHPMT</td>\n",
       "      <td>P2P_COMMIT</td>\n",
       "      <td>P2P</td>\n",
       "      <td>8/10/2021</td>\n",
       "      <td>Non-Fraud</td>\n",
       "      <td>1</td>\n",
       "      <td>0</td>\n",
       "      <td>4</td>\n",
       "    </tr>\n",
       "    <tr>\n",
       "      <th>4</th>\n",
       "      <td>497.08</td>\n",
       "      <td>12725.18</td>\n",
       "      <td>81.0</td>\n",
       "      <td>2.0</td>\n",
       "      <td>1095.0</td>\n",
       "      <td>12/28/2020 12:12:44</td>\n",
       "      <td>cogent communications</td>\n",
       "      <td>south central</td>\n",
       "      <td>texas</td>\n",
       "      <td>MOBL</td>\n",
       "      <td>...</td>\n",
       "      <td>6/27/2021 11:12:44</td>\n",
       "      <td>6/27/2021</td>\n",
       "      <td>SCHPMT</td>\n",
       "      <td>P2P_COMMIT</td>\n",
       "      <td>P2P</td>\n",
       "      <td>6/27/2021</td>\n",
       "      <td>Fraud</td>\n",
       "      <td>0</td>\n",
       "      <td>0</td>\n",
       "      <td>4</td>\n",
       "    </tr>\n",
       "    <tr>\n",
       "      <th>9</th>\n",
       "      <td>14.23</td>\n",
       "      <td>1890.65</td>\n",
       "      <td>72.0</td>\n",
       "      <td>4.0</td>\n",
       "      <td>276.0</td>\n",
       "      <td>4/22/2020 9:56:55</td>\n",
       "      <td>NaN</td>\n",
       "      <td>NaN</td>\n",
       "      <td>NaN</td>\n",
       "      <td>ONLN</td>\n",
       "      <td>...</td>\n",
       "      <td>3/3/2021 7:14:46</td>\n",
       "      <td>3/3/2021</td>\n",
       "      <td>SCHPMT</td>\n",
       "      <td>P2P_COMMIT</td>\n",
       "      <td>P2P</td>\n",
       "      <td>3/3/2021</td>\n",
       "      <td>Fraud</td>\n",
       "      <td>0</td>\n",
       "      <td>1</td>\n",
       "      <td>4</td>\n",
       "    </tr>\n",
       "    <tr>\n",
       "      <th>13</th>\n",
       "      <td>476.36</td>\n",
       "      <td>28.82</td>\n",
       "      <td>64.0</td>\n",
       "      <td>11.0</td>\n",
       "      <td>1200.0</td>\n",
       "      <td>NaN</td>\n",
       "      <td>t-mobile usa  inc.</td>\n",
       "      <td>southwest</td>\n",
       "      <td>california</td>\n",
       "      <td>ONLN</td>\n",
       "      <td>...</td>\n",
       "      <td>4/20/2021 10:0:51</td>\n",
       "      <td>4/20/2021</td>\n",
       "      <td>SCHPMT</td>\n",
       "      <td>P2P_COMMIT</td>\n",
       "      <td>P2P</td>\n",
       "      <td>4/20/2021</td>\n",
       "      <td>Non-Fraud</td>\n",
       "      <td>1</td>\n",
       "      <td>1</td>\n",
       "      <td>4</td>\n",
       "    </tr>\n",
       "    <tr>\n",
       "      <th>15</th>\n",
       "      <td>27.11</td>\n",
       "      <td>0.00</td>\n",
       "      <td>76.0</td>\n",
       "      <td>4.0</td>\n",
       "      <td>45.0</td>\n",
       "      <td>8/17/2020 10:7:20</td>\n",
       "      <td>charter communications inc</td>\n",
       "      <td>southwest</td>\n",
       "      <td>california</td>\n",
       "      <td>MOBL</td>\n",
       "      <td>...</td>\n",
       "      <td>1/31/2021 21:0:51</td>\n",
       "      <td>1/31/2021</td>\n",
       "      <td>SCHPMT</td>\n",
       "      <td>P2P_COMMIT</td>\n",
       "      <td>P2P</td>\n",
       "      <td>1/31/2021</td>\n",
       "      <td>Non-Fraud</td>\n",
       "      <td>1</td>\n",
       "      <td>0</td>\n",
       "      <td>4</td>\n",
       "    </tr>\n",
       "  </tbody>\n",
       "</table>\n",
       "<p>5 rows × 27 columns</p>\n",
       "</div>"
      ],
      "text/plain": [
       "    TRAN_AMT  ACCT_PRE_TRAN_AVAIL_BAL  CUST_AGE  OPEN_ACCT_CT  WF_dvc_age  \\\n",
       "3       0.01                     0.00      62.0           3.0       835.0   \n",
       "4     497.08                 12725.18      81.0           2.0      1095.0   \n",
       "9      14.23                  1890.65      72.0           4.0       276.0   \n",
       "13    476.36                    28.82      64.0          11.0      1200.0   \n",
       "15     27.11                     0.00      76.0           4.0        45.0   \n",
       "\n",
       "            PWD_UPDT_TS                   CARR_NAME       RGN_NAME  \\\n",
       "3      2/8/2020 7:28:31          t-mobile usa  inc.      southwest   \n",
       "4   12/28/2020 12:12:44       cogent communications  south central   \n",
       "9     4/22/2020 9:56:55                         NaN            NaN   \n",
       "13                  NaN          t-mobile usa  inc.      southwest   \n",
       "15    8/17/2020 10:7:20  charter communications inc      southwest   \n",
       "\n",
       "   STATE_PRVNC_TXT ALERT_TRGR_CD  ...             TRAN_TS    TRAN_DT ACTN_CD  \\\n",
       "3       california          MOBL  ...  8/10/2021 15:28:31  8/10/2021  SCHPMT   \n",
       "4            texas          MOBL  ...  6/27/2021 11:12:44  6/27/2021  SCHPMT   \n",
       "9              NaN          ONLN  ...    3/3/2021 7:14:46   3/3/2021  SCHPMT   \n",
       "13      california          ONLN  ...   4/20/2021 10:0:51  4/20/2021  SCHPMT   \n",
       "15      california          MOBL  ...   1/31/2021 21:0:51  1/31/2021  SCHPMT   \n",
       "\n",
       "    ACTN_INTNL_TXT TRAN_TYPE_CD   ACTVY_DT FRAUD_NONFRAUD fraud_code  \\\n",
       "3       P2P_COMMIT          P2P  8/10/2021      Non-Fraud          1   \n",
       "4       P2P_COMMIT          P2P  6/27/2021          Fraud          0   \n",
       "9       P2P_COMMIT          P2P   3/3/2021          Fraud          0   \n",
       "13      P2P_COMMIT          P2P  4/20/2021      Non-Fraud          1   \n",
       "15      P2P_COMMIT          P2P  1/31/2021      Non-Fraud          1   \n",
       "\n",
       "   alert_code auth_code  \n",
       "3           0         4  \n",
       "4           0         4  \n",
       "9           1         4  \n",
       "13          1         4  \n",
       "15          0         4  \n",
       "\n",
       "[5 rows x 27 columns]"
      ]
     },
     "execution_count": 13,
     "metadata": {},
     "output_type": "execute_result"
    }
   ],
   "source": [
    "df.head()"
   ]
  },
  {
   "cell_type": "code",
   "execution_count": 14,
   "id": "6ab8835d-fa30-4cd3-a798-766a64228523",
   "metadata": {},
   "outputs": [
    {
     "data": {
      "image/png": "[encoded data removed]",
      "text/plain": [
       "<Figure size 360x360 with 1 Axes>"
      ]
     },
     "metadata": {
      "needs_background": "light"
     },
     "output_type": "display_data"
    }
   ],
   "source": [
    "sns.catplot(x=df.fraud_code,y=df.TRAN_AMT,data=df)\n",
    "plt.show()"
   ]
  },
  {
   "cell_type": "code",
   "execution_count": 15,
   "id": "f891997b-9620-4228-82b0-26d47e7e4a6f",
   "metadata": {},
   "outputs": [
    {
     "data": {
      "image/png": "[encoded data removed]",
      "text/plain": [
       "<Figure size 360x360 with 1 Axes>"
      ]
     },
     "metadata": {
      "needs_background": "light"
     },
     "output_type": "display_data"
    }
   ],
   "source": [
    "sns.catplot(x=df.fraud_code,y=df.CUST_AGE,data=df)\n",
    "plt.show()"
   ]
  },
  {
   "cell_type": "code",
   "execution_count": 16,
   "id": "d788ad15-a00f-4799-919f-63466d6d94fc",
   "metadata": {},
   "outputs": [
    {
     "data": {
      "text/plain": [
       "<seaborn.axisgrid.FacetGrid at 0x7f96032c7b50>"
      ]
     },
     "execution_count": 16,
     "metadata": {},
     "output_type": "execute_result"
    },
    {
     "data": {
      "image/png": "[encoded data removed]",
      "text/plain": [
       "<Figure size 360x360 with 1 Axes>"
      ]
     },
     "metadata": {
      "needs_background": "light"
     },
     "output_type": "display_data"
    }
   ],
   "source": [
    "sns.catplot(x=df.fraud_code,y=df.ACCT_PRE_TRAN_AVAIL_BAL,data=df)"
   ]
  },
  {
   "cell_type": "code",
   "execution_count": 17,
   "id": "83016ff5-4e02-44af-a6b6-e6519c5a9d29",
   "metadata": {},
   "outputs": [
    {
     "data": {
      "text/plain": [
       "<seaborn.axisgrid.FacetGrid at 0x7f96060e5490>"
      ]
     },
     "execution_count": 17,
     "metadata": {},
     "output_type": "execute_result"
    },
    {
     "data": {
      "image/png": "[encoded data removed]",
      "text/plain": [
       "<Figure size 360x360 with 1 Axes>"
      ]
     },
     "metadata": {
      "needs_background": "light"
     },
     "output_type": "display_data"
    }
   ],
   "source": [
    "sns.catplot(x=df.fraud_code,y=df.OPEN_ACCT_CT,data=df)"
   ]
  },
  {
   "cell_type": "code",
   "execution_count": 18,
   "id": "c39f4522-5fc3-4cec-b81d-4afdddb2a879",
   "metadata": {},
   "outputs": [
    {
     "data": {
      "text/plain": [
       "<seaborn.axisgrid.FacetGrid at 0x7f960584d490>"
      ]
     },
     "execution_count": 18,
     "metadata": {},
     "output_type": "execute_result"
    },
    {
     "data": {
      "image/png": "[encoded data removed]",
      "text/plain": [
       "<Figure size 360x360 with 1 Axes>"
      ]
     },
     "metadata": {
      "needs_background": "light"
     },
     "output_type": "display_data"
    }
   ],
   "source": [
    "sns.catplot(x=df.fraud_code,y=df.WF_dvc_age,data=df)"
   ]
  },
  {
   "cell_type": "code",
   "execution_count": 19,
   "id": "7b34494b-e535-4870-9513-b61cc5c60679",
   "metadata": {},
   "outputs": [
    {
     "data": {
      "text/plain": [
       "<seaborn.axisgrid.FacetGrid at 0x7f9606c07c10>"
      ]
     },
     "execution_count": 19,
     "metadata": {},
     "output_type": "execute_result"
    },
    {
     "data": {
      "image/png": "[encoded data removed]",
      "text/plain": [
       "<Figure size 423.625x360 with 1 Axes>"
      ]
     },
     "metadata": {
      "needs_background": "light"
     },
     "output_type": "display_data"
    }
   ],
   "source": [
    "sns.catplot(y=df.RGN_NAME,hue=\"fraud_code\",kind = \"count\",palette=\"pastel\", edgecolor=\".6\",data=df)"
   ]
  },
  {
   "cell_type": "code",
   "execution_count": 20,
   "id": "d948baba-ddfa-4006-8435-ae4aba5c13e8",
   "metadata": {},
   "outputs": [
    {
     "data": {
      "text/plain": [
       "<seaborn.axisgrid.FacetGrid at 0x7f9606c53d60>"
      ]
     },
     "execution_count": 20,
     "metadata": {},
     "output_type": "execute_result"
    },
    {
     "data": {
      "image/png": "[encoded data removed]",
      "text/plain": [
       "<Figure size 423.625x360 with 1 Axes>"
      ]
     },
     "metadata": {
      "needs_background": "light"
     },
     "output_type": "display_data"
    }
   ],
   "source": [
    "sns.catplot(y=df.ALERT_TRGR_CD,hue=\"fraud_code\",kind = \"count\",palette=\"pastel\", edgecolor=\".6\",data=df)"
   ]
  },
  {
   "cell_type": "code",
   "execution_count": 21,
   "id": "7bbe6e08-775c-4cd4-9634-8f9faa352558",
   "metadata": {},
   "outputs": [
    {
     "data": {
      "image/png": "[encoded data removed]",
      "text/plain": [
       "<Figure size 360x360 with 1 Axes>"
      ]
     },
     "metadata": {
      "needs_background": "light"
     },
     "output_type": "display_data"
    }
   ],
   "source": [
    "sns.catplot(y=\"AUTHC_PRIM_TYPE_CD\",kind = \"count\",data=df[df.fraud_code == 0])\n",
    "plt.show()"
   ]
  },
  {
   "cell_type": "code",
   "execution_count": 22,
   "id": "4c820d27-3d7d-4e4f-944b-10f3153c099d",
   "metadata": {},
   "outputs": [
    {
     "data": {
      "text/plain": [
       "<seaborn.axisgrid.FacetGrid at 0x7f96069e3f70>"
      ]
     },
     "execution_count": 22,
     "metadata": {},
     "output_type": "execute_result"
    },
    {
     "data": {
      "image/png": "[encoded data removed]",
      "text/plain": [
       "<Figure size 906.025x595.44 with 1 Axes>"
      ]
     },
     "metadata": {
      "needs_background": "light"
     },
     "output_type": "display_data"
    }
   ],
   "source": [
    "sns.catplot(y=df.CUST_STATE,hue=\"fraud_code\",kind = \"count\",palette=\"pastel\", edgecolor=\".6\",data=df,height=8.27,aspect=11.7/8.27)"
   ]
  },
  {
   "cell_type": "code",
   "execution_count": 23,
   "id": "1161e962-637a-497e-9f6c-11ce46b09e4e",
   "metadata": {},
   "outputs": [
    {
     "data": {
      "text/plain": [
       "<seaborn.axisgrid.FacetGrid at 0x7f9606d48100>"
      ]
     },
     "execution_count": 23,
     "metadata": {},
     "output_type": "execute_result"
    },
    {
     "data": {
      "image/png": "[encoded data removed]",
      "text/plain": [
       "<Figure size 423.625x360 with 1 Axes>"
      ]
     },
     "metadata": {
      "needs_background": "light"
     },
     "output_type": "display_data"
    },
    {
     "data": {
      "image/png": "[encoded data removed]",
      "text/plain": [
       "<Figure size 423.625x360 with 1 Axes>"
      ]
     },
     "metadata": {
      "needs_background": "light"
     },
     "output_type": "display_data"
    }
   ],
   "source": [
    "sns.catplot(y=df.AUTHC_SCNDRY_STAT_TXT,hue=\"fraud_code\",kind = \"count\",palette=\"pastel\", edgecolor=\".6\",data=df)\n",
    "sns.catplot(y=df.DVC_TYPE_TXT,hue=\"fraud_code\",kind = \"count\",palette=\"pastel\", edgecolor=\".6\",data=df)"
   ]
  },
  {
   "cell_type": "code",
   "execution_count": 24,
   "id": "18e25c2f-8c02-4fff-8b09-903f6d293774",
   "metadata": {},
   "outputs": [],
   "source": [
    "df.RGN_NAME = pd.Categorical(df.RGN_NAME)\n",
    "df['rgn_code'] = df.RGN_NAME.cat.codes"
   ]
  },
  {
   "cell_type": "code",
   "execution_count": 25,
   "id": "a8b10108-be78-4602-a407-13fce6cd8667",
   "metadata": {},
   "outputs": [
    {
     "name": "stdout",
     "output_type": "stream",
     "text": [
      "{0: 'great lakes', 1: 'leinster', 2: 'mid atlantic', 3: 'midwest', 4: 'mountain', 5: 'northeast', 6: 'pacific', 7: 'pacific northwest', 8: 'south central', 9: 'south east', 10: 'southeast', 11: 'southwest', 12: 'unknown'}\n",
      "{0: 'AFA_BM', 1: 'AFA_PL', 2: 'FACE_ID', 3: 'TOUCH_ID', 4: 'UN_PWD'}\n"
     ]
    }
   ],
   "source": [
    "df.AUTHC_SCNDRY_STAT_TXT = pd.Categorical(df.AUTHC_SCNDRY_STAT_TXT)\n",
    "df['allow_code'] = df.AUTHC_SCNDRY_STAT_TXT.cat.codes\n",
    "df.DVC_TYPE_TXT = pd.Categorical(df.DVC_TYPE_TXT)\n",
    "df['device_code'] = df.DVC_TYPE_TXT.cat.codes\n",
    "\n",
    "c = df.RGN_NAME.astype('category')\n",
    "d = dict(enumerate(c.cat.categories))\n",
    "print (d)\n",
    "\n",
    "c = df.AUTHC_PRIM_TYPE_CD.astype('category')\n",
    "d = dict(enumerate(c.cat.categories))\n",
    "print (d)"
   ]
  },
  {
   "cell_type": "code",
   "execution_count": 26,
   "id": "5969ff54-b8d2-4486-881c-2c310d813474",
   "metadata": {},
   "outputs": [
    {
     "data": {
      "text/html": [
       "<div>\n",
       "<style scoped>\n",
       "    .dataframe tbody tr th:only-of-type {\n",
       "        vertical-align: middle;\n",
       "    }\n",
       "\n",
       "    .dataframe tbody tr th {\n",
       "        vertical-align: top;\n",
       "    }\n",
       "\n",
       "    .dataframe thead th {\n",
       "        text-align: right;\n",
       "    }\n",
       "</style>\n",
       "<table border=\"1\" class=\"dataframe\">\n",
       "  <thead>\n",
       "    <tr style=\"text-align: right;\">\n",
       "      <th></th>\n",
       "      <th>TRAN_AMT</th>\n",
       "      <th>ACCT_PRE_TRAN_AVAIL_BAL</th>\n",
       "      <th>CUST_AGE</th>\n",
       "      <th>OPEN_ACCT_CT</th>\n",
       "      <th>WF_dvc_age</th>\n",
       "      <th>PWD_UPDT_TS</th>\n",
       "      <th>CARR_NAME</th>\n",
       "      <th>RGN_NAME</th>\n",
       "      <th>STATE_PRVNC_TXT</th>\n",
       "      <th>ALERT_TRGR_CD</th>\n",
       "      <th>...</th>\n",
       "      <th>ACTN_INTNL_TXT</th>\n",
       "      <th>TRAN_TYPE_CD</th>\n",
       "      <th>ACTVY_DT</th>\n",
       "      <th>FRAUD_NONFRAUD</th>\n",
       "      <th>fraud_code</th>\n",
       "      <th>alert_code</th>\n",
       "      <th>auth_code</th>\n",
       "      <th>rgn_code</th>\n",
       "      <th>allow_code</th>\n",
       "      <th>device_code</th>\n",
       "    </tr>\n",
       "  </thead>\n",
       "  <tbody>\n",
       "    <tr>\n",
       "      <th>3</th>\n",
       "      <td>0.01</td>\n",
       "      <td>0.00</td>\n",
       "      <td>62.0</td>\n",
       "      <td>3.0</td>\n",
       "      <td>835.0</td>\n",
       "      <td>2/8/2020 7:28:31</td>\n",
       "      <td>t-mobile usa  inc.</td>\n",
       "      <td>southwest</td>\n",
       "      <td>california</td>\n",
       "      <td>MOBL</td>\n",
       "      <td>...</td>\n",
       "      <td>P2P_COMMIT</td>\n",
       "      <td>P2P</td>\n",
       "      <td>8/10/2021</td>\n",
       "      <td>Non-Fraud</td>\n",
       "      <td>1</td>\n",
       "      <td>0</td>\n",
       "      <td>4</td>\n",
       "      <td>11</td>\n",
       "      <td>0</td>\n",
       "      <td>1</td>\n",
       "    </tr>\n",
       "    <tr>\n",
       "      <th>4</th>\n",
       "      <td>497.08</td>\n",
       "      <td>12725.18</td>\n",
       "      <td>81.0</td>\n",
       "      <td>2.0</td>\n",
       "      <td>1095.0</td>\n",
       "      <td>12/28/2020 12:12:44</td>\n",
       "      <td>cogent communications</td>\n",
       "      <td>south central</td>\n",
       "      <td>texas</td>\n",
       "      <td>MOBL</td>\n",
       "      <td>...</td>\n",
       "      <td>P2P_COMMIT</td>\n",
       "      <td>P2P</td>\n",
       "      <td>6/27/2021</td>\n",
       "      <td>Fraud</td>\n",
       "      <td>0</td>\n",
       "      <td>0</td>\n",
       "      <td>4</td>\n",
       "      <td>8</td>\n",
       "      <td>2</td>\n",
       "      <td>1</td>\n",
       "    </tr>\n",
       "    <tr>\n",
       "      <th>9</th>\n",
       "      <td>14.23</td>\n",
       "      <td>1890.65</td>\n",
       "      <td>72.0</td>\n",
       "      <td>4.0</td>\n",
       "      <td>276.0</td>\n",
       "      <td>4/22/2020 9:56:55</td>\n",
       "      <td>NaN</td>\n",
       "      <td>NaN</td>\n",
       "      <td>NaN</td>\n",
       "      <td>ONLN</td>\n",
       "      <td>...</td>\n",
       "      <td>P2P_COMMIT</td>\n",
       "      <td>P2P</td>\n",
       "      <td>3/3/2021</td>\n",
       "      <td>Fraud</td>\n",
       "      <td>0</td>\n",
       "      <td>1</td>\n",
       "      <td>4</td>\n",
       "      <td>-1</td>\n",
       "      <td>0</td>\n",
       "      <td>-1</td>\n",
       "    </tr>\n",
       "    <tr>\n",
       "      <th>13</th>\n",
       "      <td>476.36</td>\n",
       "      <td>28.82</td>\n",
       "      <td>64.0</td>\n",
       "      <td>11.0</td>\n",
       "      <td>1200.0</td>\n",
       "      <td>NaN</td>\n",
       "      <td>t-mobile usa  inc.</td>\n",
       "      <td>southwest</td>\n",
       "      <td>california</td>\n",
       "      <td>ONLN</td>\n",
       "      <td>...</td>\n",
       "      <td>P2P_COMMIT</td>\n",
       "      <td>P2P</td>\n",
       "      <td>4/20/2021</td>\n",
       "      <td>Non-Fraud</td>\n",
       "      <td>1</td>\n",
       "      <td>1</td>\n",
       "      <td>4</td>\n",
       "      <td>11</td>\n",
       "      <td>0</td>\n",
       "      <td>1</td>\n",
       "    </tr>\n",
       "    <tr>\n",
       "      <th>15</th>\n",
       "      <td>27.11</td>\n",
       "      <td>0.00</td>\n",
       "      <td>76.0</td>\n",
       "      <td>4.0</td>\n",
       "      <td>45.0</td>\n",
       "      <td>8/17/2020 10:7:20</td>\n",
       "      <td>charter communications inc</td>\n",
       "      <td>southwest</td>\n",
       "      <td>california</td>\n",
       "      <td>MOBL</td>\n",
       "      <td>...</td>\n",
       "      <td>P2P_COMMIT</td>\n",
       "      <td>P2P</td>\n",
       "      <td>1/31/2021</td>\n",
       "      <td>Non-Fraud</td>\n",
       "      <td>1</td>\n",
       "      <td>0</td>\n",
       "      <td>4</td>\n",
       "      <td>11</td>\n",
       "      <td>0</td>\n",
       "      <td>1</td>\n",
       "    </tr>\n",
       "  </tbody>\n",
       "</table>\n",
       "<p>5 rows × 30 columns</p>\n",
       "</div>"
      ],
      "text/plain": [
       "    TRAN_AMT  ACCT_PRE_TRAN_AVAIL_BAL  CUST_AGE  OPEN_ACCT_CT  WF_dvc_age  \\\n",
       "3       0.01                     0.00      62.0           3.0       835.0   \n",
       "4     497.08                 12725.18      81.0           2.0      1095.0   \n",
       "9      14.23                  1890.65      72.0           4.0       276.0   \n",
       "13    476.36                    28.82      64.0          11.0      1200.0   \n",
       "15     27.11                     0.00      76.0           4.0        45.0   \n",
       "\n",
       "            PWD_UPDT_TS                   CARR_NAME       RGN_NAME  \\\n",
       "3      2/8/2020 7:28:31          t-mobile usa  inc.      southwest   \n",
       "4   12/28/2020 12:12:44       cogent communications  south central   \n",
       "9     4/22/2020 9:56:55                         NaN            NaN   \n",
       "13                  NaN          t-mobile usa  inc.      southwest   \n",
       "15    8/17/2020 10:7:20  charter communications inc      southwest   \n",
       "\n",
       "   STATE_PRVNC_TXT ALERT_TRGR_CD  ... ACTN_INTNL_TXT TRAN_TYPE_CD   ACTVY_DT  \\\n",
       "3       california          MOBL  ...     P2P_COMMIT          P2P  8/10/2021   \n",
       "4            texas          MOBL  ...     P2P_COMMIT          P2P  6/27/2021   \n",
       "9              NaN          ONLN  ...     P2P_COMMIT          P2P   3/3/2021   \n",
       "13      california          ONLN  ...     P2P_COMMIT          P2P  4/20/2021   \n",
       "15      california          MOBL  ...     P2P_COMMIT          P2P  1/31/2021   \n",
       "\n",
       "    FRAUD_NONFRAUD fraud_code alert_code auth_code rgn_code allow_code  \\\n",
       "3        Non-Fraud          1          0         4       11          0   \n",
       "4            Fraud          0          0         4        8          2   \n",
       "9            Fraud          0          1         4       -1          0   \n",
       "13       Non-Fraud          1          1         4       11          0   \n",
       "15       Non-Fraud          1          0         4       11          0   \n",
       "\n",
       "   device_code  \n",
       "3            1  \n",
       "4            1  \n",
       "9           -1  \n",
       "13           1  \n",
       "15           1  \n",
       "\n",
       "[5 rows x 30 columns]"
      ]
     },
     "execution_count": 26,
     "metadata": {},
     "output_type": "execute_result"
    }
   ],
   "source": [
    "df.head()"
   ]
  },
  {
   "cell_type": "code",
   "execution_count": 27,
   "id": "c3ba154e-77ce-4afc-8cec-99d61865a545",
   "metadata": {},
   "outputs": [],
   "source": [
    "df.to_excel('oct3dataframe.xlsx',index = False)"
   ]
  },
  {
   "cell_type": "code",
   "execution_count": 159,
   "id": "5ded3f43-cd22-47cc-bdc2-2b7af7c3f460",
   "metadata": {},
   "outputs": [
    {
     "data": {
      "text/html": [
       "<div>\n",
       "<style scoped>\n",
       "    .dataframe tbody tr th:only-of-type {\n",
       "        vertical-align: middle;\n",
       "    }\n",
       "\n",
       "    .dataframe tbody tr th {\n",
       "        vertical-align: top;\n",
       "    }\n",
       "\n",
       "    .dataframe thead th {\n",
       "        text-align: right;\n",
       "    }\n",
       "</style>\n",
       "<table border=\"1\" class=\"dataframe\">\n",
       "  <thead>\n",
       "    <tr style=\"text-align: right;\">\n",
       "      <th></th>\n",
       "      <th>TRAN_AMT</th>\n",
       "      <th>ACCT_PRE_TRAN_AVAIL_BAL</th>\n",
       "      <th>CUST_AGE</th>\n",
       "      <th>OPEN_ACCT_CT</th>\n",
       "      <th>WF_dvc_age</th>\n",
       "      <th>PWD_UPDT_TS</th>\n",
       "      <th>CARR_NAME</th>\n",
       "      <th>RGN_NAME</th>\n",
       "      <th>STATE_PRVNC_TXT</th>\n",
       "      <th>ALERT_TRGR_CD</th>\n",
       "      <th>...</th>\n",
       "      <th>FRAUD_NONFRAUD</th>\n",
       "      <th>fraud_code</th>\n",
       "      <th>alert_code</th>\n",
       "      <th>auth_code</th>\n",
       "      <th>rgn_code</th>\n",
       "      <th>allow_code</th>\n",
       "      <th>device_code</th>\n",
       "      <th>tran_hour</th>\n",
       "      <th>tran_month</th>\n",
       "      <th>cust_year</th>\n",
       "    </tr>\n",
       "  </thead>\n",
       "  <tbody>\n",
       "    <tr>\n",
       "      <th>3</th>\n",
       "      <td>0.01</td>\n",
       "      <td>0.00</td>\n",
       "      <td>62.0</td>\n",
       "      <td>3.0</td>\n",
       "      <td>835.0</td>\n",
       "      <td>2/8/2020 7:28:31</td>\n",
       "      <td>t-mobile usa  inc.</td>\n",
       "      <td>southwest</td>\n",
       "      <td>california</td>\n",
       "      <td>MOBL</td>\n",
       "      <td>...</td>\n",
       "      <td>Non-Fraud</td>\n",
       "      <td>1</td>\n",
       "      <td>0</td>\n",
       "      <td>4</td>\n",
       "      <td>11</td>\n",
       "      <td>0</td>\n",
       "      <td>1</td>\n",
       "      <td>15</td>\n",
       "      <td>8</td>\n",
       "      <td>2001</td>\n",
       "    </tr>\n",
       "    <tr>\n",
       "      <th>4</th>\n",
       "      <td>497.08</td>\n",
       "      <td>12725.18</td>\n",
       "      <td>81.0</td>\n",
       "      <td>2.0</td>\n",
       "      <td>1095.0</td>\n",
       "      <td>12/28/2020 12:12:44</td>\n",
       "      <td>cogent communications</td>\n",
       "      <td>south central</td>\n",
       "      <td>texas</td>\n",
       "      <td>MOBL</td>\n",
       "      <td>...</td>\n",
       "      <td>Fraud</td>\n",
       "      <td>0</td>\n",
       "      <td>0</td>\n",
       "      <td>4</td>\n",
       "      <td>8</td>\n",
       "      <td>2</td>\n",
       "      <td>1</td>\n",
       "      <td>11</td>\n",
       "      <td>6</td>\n",
       "      <td>1987</td>\n",
       "    </tr>\n",
       "    <tr>\n",
       "      <th>9</th>\n",
       "      <td>14.23</td>\n",
       "      <td>1890.65</td>\n",
       "      <td>72.0</td>\n",
       "      <td>4.0</td>\n",
       "      <td>276.0</td>\n",
       "      <td>4/22/2020 9:56:55</td>\n",
       "      <td>NaN</td>\n",
       "      <td>NaN</td>\n",
       "      <td>NaN</td>\n",
       "      <td>ONLN</td>\n",
       "      <td>...</td>\n",
       "      <td>Fraud</td>\n",
       "      <td>0</td>\n",
       "      <td>1</td>\n",
       "      <td>4</td>\n",
       "      <td>-1</td>\n",
       "      <td>0</td>\n",
       "      <td>-1</td>\n",
       "      <td>7</td>\n",
       "      <td>3</td>\n",
       "      <td>1976</td>\n",
       "    </tr>\n",
       "    <tr>\n",
       "      <th>13</th>\n",
       "      <td>476.36</td>\n",
       "      <td>28.82</td>\n",
       "      <td>64.0</td>\n",
       "      <td>11.0</td>\n",
       "      <td>1200.0</td>\n",
       "      <td>NaN</td>\n",
       "      <td>t-mobile usa  inc.</td>\n",
       "      <td>southwest</td>\n",
       "      <td>california</td>\n",
       "      <td>ONLN</td>\n",
       "      <td>...</td>\n",
       "      <td>Non-Fraud</td>\n",
       "      <td>1</td>\n",
       "      <td>1</td>\n",
       "      <td>4</td>\n",
       "      <td>11</td>\n",
       "      <td>0</td>\n",
       "      <td>1</td>\n",
       "      <td>10</td>\n",
       "      <td>4</td>\n",
       "      <td>1993</td>\n",
       "    </tr>\n",
       "    <tr>\n",
       "      <th>15</th>\n",
       "      <td>27.11</td>\n",
       "      <td>0.00</td>\n",
       "      <td>76.0</td>\n",
       "      <td>4.0</td>\n",
       "      <td>45.0</td>\n",
       "      <td>8/17/2020 10:7:20</td>\n",
       "      <td>charter communications inc</td>\n",
       "      <td>southwest</td>\n",
       "      <td>california</td>\n",
       "      <td>MOBL</td>\n",
       "      <td>...</td>\n",
       "      <td>Non-Fraud</td>\n",
       "      <td>1</td>\n",
       "      <td>0</td>\n",
       "      <td>4</td>\n",
       "      <td>11</td>\n",
       "      <td>0</td>\n",
       "      <td>1</td>\n",
       "      <td>21</td>\n",
       "      <td>1</td>\n",
       "      <td>2001</td>\n",
       "    </tr>\n",
       "  </tbody>\n",
       "</table>\n",
       "<p>5 rows × 33 columns</p>\n",
       "</div>"
      ],
      "text/plain": [
       "    TRAN_AMT  ACCT_PRE_TRAN_AVAIL_BAL  CUST_AGE  OPEN_ACCT_CT  WF_dvc_age  \\\n",
       "3       0.01                     0.00      62.0           3.0       835.0   \n",
       "4     497.08                 12725.18      81.0           2.0      1095.0   \n",
       "9      14.23                  1890.65      72.0           4.0       276.0   \n",
       "13    476.36                    28.82      64.0          11.0      1200.0   \n",
       "15     27.11                     0.00      76.0           4.0        45.0   \n",
       "\n",
       "            PWD_UPDT_TS                   CARR_NAME       RGN_NAME  \\\n",
       "3      2/8/2020 7:28:31          t-mobile usa  inc.      southwest   \n",
       "4   12/28/2020 12:12:44       cogent communications  south central   \n",
       "9     4/22/2020 9:56:55                         NaN            NaN   \n",
       "13                  NaN          t-mobile usa  inc.      southwest   \n",
       "15    8/17/2020 10:7:20  charter communications inc      southwest   \n",
       "\n",
       "   STATE_PRVNC_TXT ALERT_TRGR_CD  ... FRAUD_NONFRAUD fraud_code alert_code  \\\n",
       "3       california          MOBL  ...      Non-Fraud          1          0   \n",
       "4            texas          MOBL  ...          Fraud          0          0   \n",
       "9              NaN          ONLN  ...          Fraud          0          1   \n",
       "13      california          ONLN  ...      Non-Fraud          1          1   \n",
       "15      california          MOBL  ...      Non-Fraud          1          0   \n",
       "\n",
       "    auth_code rgn_code allow_code device_code tran_hour tran_month cust_year  \n",
       "3           4       11          0           1        15          8      2001  \n",
       "4           4        8          2           1        11          6      1987  \n",
       "9           4       -1          0          -1         7          3      1976  \n",
       "13          4       11          0           1        10          4      1993  \n",
       "15          4       11          0           1        21          1      2001  \n",
       "\n",
       "[5 rows x 33 columns]"
      ]
     },
     "execution_count": 159,
     "metadata": {},
     "output_type": "execute_result"
    },
    {
     "data": {
      "image/png": "[encoded data removed]",
      "text/plain": [
       "<Figure size 423.625x360 with 1 Axes>"
      ]
     },
     "metadata": {
      "needs_background": "light"
     },
     "output_type": "display_data"
    },
    {
     "data": {
      "image/png": "[encoded data removed]",
      "text/plain": [
       "<Figure size 423.625x360 with 1 Axes>"
      ]
     },
     "metadata": {
      "needs_background": "light"
     },
     "output_type": "display_data"
    },
    {
     "data": {
      "image/png": "[encoded data removed]",
      "text/plain": [
       "<Figure size 423.625x360 with 1 Axes>"
      ]
     },
     "metadata": {
      "needs_background": "light"
     },
     "output_type": "display_data"
    }
   ],
   "source": [
    "df['TRAN_TS'] = pd.to_datetime(df['TRAN_TS'])\n",
    "sns.catplot(y=df.TRAN_TS.dt.hour,hue=\"fraud_code\",kind = \"count\",palette=\"pastel\", edgecolor=\".6\",data=df)\n",
    "sns.catplot(y=df.TRAN_TS.dt.dayofweek,hue=\"fraud_code\",kind = \"count\",palette=\"pastel\", edgecolor=\".6\",data=df)\n",
    "sns.catplot(y=df.TRAN_TS.dt.month,hue=\"fraud_code\",kind = \"count\",palette=\"pastel\", edgecolor=\".6\",data=df)\n",
    "df['tran_hour'] = df.TRAN_TS.dt.hour\n",
    "df['tran_month'] = df.TRAN_TS.dt.month\n",
    "df.head()"
   ]
  },
  {
   "cell_type": "markdown",
   "id": "519d0e16-e285-4142-b5dd-23d96db4cfaa",
   "metadata": {},
   "source": [
    "# Models"
   ]
  },
  {
   "cell_type": "code",
   "execution_count": 141,
   "id": "b1139bae-7b20-4d0d-b1ad-7cb05c49e016",
   "metadata": {},
   "outputs": [],
   "source": [
    "from sklearn.model_selection import train_test_split\n",
    "features = ['TRAN_AMT','ACCT_PRE_TRAN_AVAIL_BAL','WF_dvc_age','tran_hour','device_code']\n",
    "x = np.array(df[features])\n",
    "y = np.array(df['fraud_code'])\n",
    "# Split set for training and testing\n",
    "X_train, X_test, y_train, y_test = train_test_split(x, y, test_size = 0.2, random_state = 50)"
   ]
  },
  {
   "cell_type": "markdown",
   "id": "57a703b2-51c7-456c-a257-e5a2990fd078",
   "metadata": {},
   "source": [
    "#### Random Forests"
   ]
  },
  {
   "cell_type": "code",
   "execution_count": 160,
   "id": "2b208f67-d845-4d02-adc6-16490c3a33f6",
   "metadata": {},
   "outputs": [],
   "source": [
    "from sklearn.ensemble import RandomForestClassifier\n",
    "reg_rf = RandomForestClassifier()\n",
    "reg_rf.fit(X_train, y_train)\n",
    "y_pred = reg_rf.predict(X_test)"
   ]
  },
  {
   "cell_type": "code",
   "execution_count": 161,
   "id": "e6e636f4-72d9-4968-8f1e-de05a4b093ff",
   "metadata": {},
   "outputs": [
    {
     "name": "stdout",
     "output_type": "stream",
     "text": [
      "              precision    recall  f1-score   support\n",
      "\n",
      "           0       0.90      0.86      0.88       411\n",
      "           1       0.94      0.96      0.95       973\n",
      "\n",
      "    accuracy                           0.93      1384\n",
      "   macro avg       0.92      0.91      0.92      1384\n",
      "weighted avg       0.93      0.93      0.93      1384\n",
      "\n",
      "roc_auc_score:  0.9101019497228078\n",
      "f1 score:  0.9505858380030566\n",
      "accuracy:  0.9299132947976878\n"
     ]
    },
    {
     "data": {
      "text/html": [
       "<div>\n",
       "<style scoped>\n",
       "    .dataframe tbody tr th:only-of-type {\n",
       "        vertical-align: middle;\n",
       "    }\n",
       "\n",
       "    .dataframe tbody tr th {\n",
       "        vertical-align: top;\n",
       "    }\n",
       "\n",
       "    .dataframe thead th {\n",
       "        text-align: right;\n",
       "    }\n",
       "</style>\n",
       "<table border=\"1\" class=\"dataframe\">\n",
       "  <thead>\n",
       "    <tr style=\"text-align: right;\">\n",
       "      <th>Predicted Result</th>\n",
       "      <th>0</th>\n",
       "      <th>1</th>\n",
       "    </tr>\n",
       "    <tr>\n",
       "      <th>Actual Result</th>\n",
       "      <th></th>\n",
       "      <th></th>\n",
       "    </tr>\n",
       "  </thead>\n",
       "  <tbody>\n",
       "    <tr>\n",
       "      <th>0</th>\n",
       "      <td>354</td>\n",
       "      <td>57</td>\n",
       "    </tr>\n",
       "    <tr>\n",
       "      <th>1</th>\n",
       "      <td>40</td>\n",
       "      <td>933</td>\n",
       "    </tr>\n",
       "  </tbody>\n",
       "</table>\n",
       "</div>"
      ],
      "text/plain": [
       "Predicted Result    0    1\n",
       "Actual Result             \n",
       "0                 354   57\n",
       "1                  40  933"
      ]
     },
     "execution_count": 161,
     "metadata": {},
     "output_type": "execute_result"
    }
   ],
   "source": [
    "print(metrics.classification_report(y_test, y_pred))\n",
    "print(\"roc_auc_score: \", metrics.roc_auc_score(y_test, y_pred))\n",
    "print(\"f1 score: \", metrics.f1_score(y_test, y_pred))\n",
    "print(\"accuracy: \", metrics.accuracy_score(y_test,y_pred))\n",
    "pd.crosstab(y_test, y_pred, rownames=['Actual Result'], colnames=['Predicted Result'])"
   ]
  },
  {
   "cell_type": "code",
   "execution_count": 146,
   "id": "9ce4e36d-a34c-4cf6-965f-e63d2f573355",
   "metadata": {},
   "outputs": [
    {
     "name": "stdout",
     "output_type": "stream",
     "text": [
      "   Importance                 Features\n",
      "0    0.590742                 TRAN_AMT\n",
      "1    0.194369  ACCT_PRE_TRAN_AVAIL_BAL\n",
      "2    0.142700               WF_dvc_age\n",
      "3    0.035820                tran_hour\n",
      "4    0.036369              device_code\n"
     ]
    }
   ],
   "source": [
    "feature_df = pd.DataFrame({'Importance':reg_rf.feature_importances_, 'Features': features })\n",
    "print(feature_df)"
   ]
  },
  {
   "cell_type": "markdown",
   "id": "9e46c969-c0fc-4ae0-aefd-21e01c3da350",
   "metadata": {},
   "source": [
    "#### K-Nearest Neighbors"
   ]
  },
  {
   "cell_type": "code",
   "execution_count": 147,
   "id": "0af7612c-ccf0-438c-8f0e-4b43edb5e51b",
   "metadata": {},
   "outputs": [
    {
     "name": "stdout",
     "output_type": "stream",
     "text": [
      "              precision    recall  f1-score   support\n",
      "\n",
      "           0       0.79      0.78      0.79       411\n",
      "           1       0.91      0.91      0.91       973\n",
      "\n",
      "    accuracy                           0.87      1384\n",
      "   macro avg       0.85      0.85      0.85      1384\n",
      "weighted avg       0.87      0.87      0.87      1384\n",
      "\n",
      "roc_auc_score:  0.8480481516767816\n",
      "f1 score:  0.9107692307692308\n"
     ]
    },
    {
     "data": {
      "text/html": [
       "<div>\n",
       "<style scoped>\n",
       "    .dataframe tbody tr th:only-of-type {\n",
       "        vertical-align: middle;\n",
       "    }\n",
       "\n",
       "    .dataframe tbody tr th {\n",
       "        vertical-align: top;\n",
       "    }\n",
       "\n",
       "    .dataframe thead th {\n",
       "        text-align: right;\n",
       "    }\n",
       "</style>\n",
       "<table border=\"1\" class=\"dataframe\">\n",
       "  <thead>\n",
       "    <tr style=\"text-align: right;\">\n",
       "      <th>Predicted Result</th>\n",
       "      <th>0</th>\n",
       "      <th>1</th>\n",
       "    </tr>\n",
       "    <tr>\n",
       "      <th>Actual Result</th>\n",
       "      <th></th>\n",
       "      <th></th>\n",
       "    </tr>\n",
       "  </thead>\n",
       "  <tbody>\n",
       "    <tr>\n",
       "      <th>0</th>\n",
       "      <td>322</td>\n",
       "      <td>89</td>\n",
       "    </tr>\n",
       "    <tr>\n",
       "      <th>1</th>\n",
       "      <td>85</td>\n",
       "      <td>888</td>\n",
       "    </tr>\n",
       "  </tbody>\n",
       "</table>\n",
       "</div>"
      ],
      "text/plain": [
       "Predicted Result    0    1\n",
       "Actual Result             \n",
       "0                 322   89\n",
       "1                  85  888"
      ]
     },
     "execution_count": 147,
     "metadata": {},
     "output_type": "execute_result"
    }
   ],
   "source": [
    "from sklearn.neighbors import KNeighborsClassifier\n",
    "reg_knn = KNeighborsClassifier()\n",
    "reg_knn.fit(X_train, y_train)\n",
    "y_pred = reg_knn.predict(X_test)\n",
    "print(metrics.classification_report(y_test, y_pred))\n",
    "print(\"roc_auc_score: \", metrics.roc_auc_score(y_test, y_pred))\n",
    "print(\"f1 score: \", metrics.f1_score(y_test, y_pred))\n",
    "pd.crosstab(y_test, y_pred, rownames=['Actual Result'], colnames=['Predicted Result'])"
   ]
  },
  {
   "cell_type": "markdown",
   "id": "c0cc8d39-471f-40df-bb91-5f679895ad38",
   "metadata": {},
   "source": [
    "# Running on Testset"
   ]
  },
  {
   "cell_type": "code",
   "execution_count": 152,
   "id": "d5dd0035-b72c-4dee-9941-a87d76b051cf",
   "metadata": {},
   "outputs": [
    {
     "name": "stdout",
     "output_type": "stream",
     "text": [
      "<class 'pandas.core.frame.DataFrame'>\n",
      "RangeIndex: 6000 entries, 0 to 5999\n",
      "Data columns (total 30 columns):\n",
      " #   Column                   Non-Null Count  Dtype         \n",
      "---  ------                   --------------  -----         \n",
      " 0   dataset_id               6000 non-null   int64         \n",
      " 1   TRAN_AMT                 6000 non-null   float64       \n",
      " 2   ACCT_PRE_TRAN_AVAIL_BAL  6000 non-null   float64       \n",
      " 3   CUST_AGE                 6000 non-null   int64         \n",
      " 4   OPEN_ACCT_CT             6000 non-null   int64         \n",
      " 5   WF_dvc_age               6000 non-null   int64         \n",
      " 6   PWD_UPDT_TS              4682 non-null   object        \n",
      " 7   CARR_NAME                4825 non-null   object        \n",
      " 8   RGN_NAME                 4825 non-null   object        \n",
      " 9   STATE_PRVNC_TXT          4825 non-null   object        \n",
      " 10  ALERT_TRGR_CD            6000 non-null   category      \n",
      " 11  DVC_TYPE_TXT             5197 non-null   category      \n",
      " 12  AUTHC_PRIM_TYPE_CD       6000 non-null   category      \n",
      " 13  AUTHC_SCNDRY_STAT_TXT    5974 non-null   object        \n",
      " 14  CUST_ZIP                 6000 non-null   int64         \n",
      " 15  CUST_STATE               5978 non-null   object        \n",
      " 16  PH_NUM_UPDT_TS           2964 non-null   object        \n",
      " 17  CUST_SINCE_DT            6000 non-null   datetime64[ns]\n",
      " 18  TRAN_TS                  6000 non-null   datetime64[ns]\n",
      " 19  TRAN_DT                  6000 non-null   object        \n",
      " 20  ACTN_CD                  6000 non-null   object        \n",
      " 21  ACTN_INTNL_TXT           6000 non-null   object        \n",
      " 22  TRAN_TYPE_CD             6000 non-null   object        \n",
      " 23  ACTVY_DT                 6000 non-null   object        \n",
      " 24  FRAUD_NONFRAUD           6000 non-null   object        \n",
      " 25  alert_code               6000 non-null   int8          \n",
      " 26  auth_code                6000 non-null   int8          \n",
      " 27  device_code              6000 non-null   int8          \n",
      " 28  tran_hour                6000 non-null   int64         \n",
      " 29  cust_year                6000 non-null   int64         \n",
      "dtypes: category(3), datetime64[ns](2), float64(2), int64(7), int8(3), object(13)\n",
      "memory usage: 1.1+ MB\n"
     ]
    }
   ],
   "source": [
    "dftest = pd.read_excel('testset.xlsx')\n",
    "dftest['FRAUD_NONFRAUD'] = \"\"\n",
    "dftest.ALERT_TRGR_CD = pd.Categorical(dftest.ALERT_TRGR_CD)\n",
    "dftest['alert_code'] = dftest.ALERT_TRGR_CD.cat.codes\n",
    "dftest.AUTHC_PRIM_TYPE_CD = pd.Categorical(dftest.AUTHC_PRIM_TYPE_CD)\n",
    "dftest['auth_code'] = dftest.AUTHC_PRIM_TYPE_CD.cat.codes\n",
    "dftest.DVC_TYPE_TXT = pd.Categorical(dftest.DVC_TYPE_TXT)\n",
    "dftest['device_code'] = dftest.DVC_TYPE_TXT.cat.codes\n",
    "dftest['TRAN_TS'] = pd.to_datetime(dftest['TRAN_TS'])\n",
    "dftest['tran_hour'] = dftest.TRAN_TS.dt.hour\n",
    "dftest['cust_year'] = dftest.CUST_SINCE_DT.dt.year\n",
    "dftestfeatures = ['ACCT_PRE_TRAN_AVAIL_BAL','WF_dvc_age','device_code','tran_hour','TRAN_AMT']\n",
    "dftest.info()"
   ]
  },
  {
   "cell_type": "code",
   "execution_count": 153,
   "id": "1179d40f-29f2-48d3-ad02-f67209b65cd3",
   "metadata": {},
   "outputs": [
    {
     "data": {
      "text/plain": [
       "array([1, 1, 1, ..., 1, 1, 1], dtype=int8)"
      ]
     },
     "execution_count": 153,
     "metadata": {},
     "output_type": "execute_result"
    }
   ],
   "source": [
    "y = reg_rf.predict(dftest[dftestfeatures])\n",
    "y"
   ]
  },
  {
   "cell_type": "code",
   "execution_count": 154,
   "id": "d4ad03a2-f423-4903-aad2-0d1e32be8766",
   "metadata": {},
   "outputs": [],
   "source": [
    "dftest['FRAUD_NONFRAUD'] = y[:]"
   ]
  },
  {
   "cell_type": "code",
   "execution_count": 155,
   "id": "39db5c0d-9c02-454a-a644-8a6481a833c5",
   "metadata": {},
   "outputs": [
    {
     "data": {
      "text/plain": [
       "1    4972\n",
       "0    1028\n",
       "Name: FRAUD_NONFRAUD, dtype: int64"
      ]
     },
     "execution_count": 155,
     "metadata": {},
     "output_type": "execute_result"
    }
   ],
   "source": [
    "dftest['FRAUD_NONFRAUD'].value_counts()"
   ]
  },
  {
   "cell_type": "code",
   "execution_count": 156,
   "id": "cfbda2c5-239d-4a39-b251-a51d7d1c8dad",
   "metadata": {},
   "outputs": [
    {
     "data": {
      "text/html": [
       "<div>\n",
       "<style scoped>\n",
       "    .dataframe tbody tr th:only-of-type {\n",
       "        vertical-align: middle;\n",
       "    }\n",
       "\n",
       "    .dataframe tbody tr th {\n",
       "        vertical-align: top;\n",
       "    }\n",
       "\n",
       "    .dataframe thead th {\n",
       "        text-align: right;\n",
       "    }\n",
       "</style>\n",
       "<table border=\"1\" class=\"dataframe\">\n",
       "  <thead>\n",
       "    <tr style=\"text-align: right;\">\n",
       "      <th></th>\n",
       "      <th>dataset_id</th>\n",
       "      <th>TRAN_AMT</th>\n",
       "      <th>ACCT_PRE_TRAN_AVAIL_BAL</th>\n",
       "      <th>CUST_AGE</th>\n",
       "      <th>OPEN_ACCT_CT</th>\n",
       "      <th>WF_dvc_age</th>\n",
       "      <th>PWD_UPDT_TS</th>\n",
       "      <th>CARR_NAME</th>\n",
       "      <th>RGN_NAME</th>\n",
       "      <th>STATE_PRVNC_TXT</th>\n",
       "      <th>...</th>\n",
       "      <th>ACTN_CD</th>\n",
       "      <th>ACTN_INTNL_TXT</th>\n",
       "      <th>TRAN_TYPE_CD</th>\n",
       "      <th>ACTVY_DT</th>\n",
       "      <th>FRAUD_NONFRAUD</th>\n",
       "      <th>alert_code</th>\n",
       "      <th>auth_code</th>\n",
       "      <th>device_code</th>\n",
       "      <th>tran_hour</th>\n",
       "      <th>cust_year</th>\n",
       "    </tr>\n",
       "  </thead>\n",
       "  <tbody>\n",
       "    <tr>\n",
       "      <th>0</th>\n",
       "      <td>1</td>\n",
       "      <td>54.25</td>\n",
       "      <td>0.00</td>\n",
       "      <td>23</td>\n",
       "      <td>4</td>\n",
       "      <td>634</td>\n",
       "      <td>9/18/2020 9:33:44</td>\n",
       "      <td>charter communications inc</td>\n",
       "      <td>southwest</td>\n",
       "      <td>california</td>\n",
       "      <td>...</td>\n",
       "      <td>SCHPMT</td>\n",
       "      <td>P2P_COMMIT</td>\n",
       "      <td>P2P</td>\n",
       "      <td>1/8/2021</td>\n",
       "      <td>1</td>\n",
       "      <td>0</td>\n",
       "      <td>4</td>\n",
       "      <td>0</td>\n",
       "      <td>11</td>\n",
       "      <td>2011</td>\n",
       "    </tr>\n",
       "    <tr>\n",
       "      <th>1</th>\n",
       "      <td>2</td>\n",
       "      <td>110.30</td>\n",
       "      <td>0.00</td>\n",
       "      <td>56</td>\n",
       "      <td>3</td>\n",
       "      <td>1876</td>\n",
       "      <td>5/16/2021 17:2:31</td>\n",
       "      <td>comcast</td>\n",
       "      <td>mountain</td>\n",
       "      <td>colorado</td>\n",
       "      <td>...</td>\n",
       "      <td>SCHPMT</td>\n",
       "      <td>P2P_COMMIT</td>\n",
       "      <td>P2P</td>\n",
       "      <td>2/27/2021</td>\n",
       "      <td>1</td>\n",
       "      <td>1</td>\n",
       "      <td>4</td>\n",
       "      <td>1</td>\n",
       "      <td>7</td>\n",
       "      <td>2001</td>\n",
       "    </tr>\n",
       "    <tr>\n",
       "      <th>2</th>\n",
       "      <td>3</td>\n",
       "      <td>515.95</td>\n",
       "      <td>0.00</td>\n",
       "      <td>33</td>\n",
       "      <td>5</td>\n",
       "      <td>40</td>\n",
       "      <td>NaN</td>\n",
       "      <td>point broadband fiber holding  llc</td>\n",
       "      <td>mid atlantic</td>\n",
       "      <td>virginia</td>\n",
       "      <td>...</td>\n",
       "      <td>SCHPMT</td>\n",
       "      <td>P2P_COMMIT</td>\n",
       "      <td>P2P</td>\n",
       "      <td>4/22/2021</td>\n",
       "      <td>1</td>\n",
       "      <td>0</td>\n",
       "      <td>4</td>\n",
       "      <td>1</td>\n",
       "      <td>11</td>\n",
       "      <td>1999</td>\n",
       "    </tr>\n",
       "    <tr>\n",
       "      <th>5</th>\n",
       "      <td>6</td>\n",
       "      <td>471.72</td>\n",
       "      <td>36011.52</td>\n",
       "      <td>39</td>\n",
       "      <td>4</td>\n",
       "      <td>1267</td>\n",
       "      <td>NaN</td>\n",
       "      <td>charter communications inc</td>\n",
       "      <td>southwest</td>\n",
       "      <td>california</td>\n",
       "      <td>...</td>\n",
       "      <td>SCHPMT</td>\n",
       "      <td>P2P_COMMIT</td>\n",
       "      <td>P2P</td>\n",
       "      <td>6/25/2021</td>\n",
       "      <td>0</td>\n",
       "      <td>0</td>\n",
       "      <td>1</td>\n",
       "      <td>-1</td>\n",
       "      <td>17</td>\n",
       "      <td>2020</td>\n",
       "    </tr>\n",
       "    <tr>\n",
       "      <th>6</th>\n",
       "      <td>7</td>\n",
       "      <td>490.57</td>\n",
       "      <td>2801.23</td>\n",
       "      <td>33</td>\n",
       "      <td>7</td>\n",
       "      <td>-33</td>\n",
       "      <td>4/8/2018 16:24:2</td>\n",
       "      <td>NaN</td>\n",
       "      <td>NaN</td>\n",
       "      <td>NaN</td>\n",
       "      <td>...</td>\n",
       "      <td>SCHPMT</td>\n",
       "      <td>P2P_COMMIT</td>\n",
       "      <td>P2P</td>\n",
       "      <td>3/29/2021</td>\n",
       "      <td>1</td>\n",
       "      <td>0</td>\n",
       "      <td>4</td>\n",
       "      <td>1</td>\n",
       "      <td>7</td>\n",
       "      <td>2004</td>\n",
       "    </tr>\n",
       "  </tbody>\n",
       "</table>\n",
       "<p>5 rows × 30 columns</p>\n",
       "</div>"
      ],
      "text/plain": [
       "   dataset_id  TRAN_AMT  ACCT_PRE_TRAN_AVAIL_BAL  CUST_AGE  OPEN_ACCT_CT  \\\n",
       "0           1     54.25                     0.00        23             4   \n",
       "1           2    110.30                     0.00        56             3   \n",
       "2           3    515.95                     0.00        33             5   \n",
       "5           6    471.72                 36011.52        39             4   \n",
       "6           7    490.57                  2801.23        33             7   \n",
       "\n",
       "   WF_dvc_age        PWD_UPDT_TS                           CARR_NAME  \\\n",
       "0         634  9/18/2020 9:33:44          charter communications inc   \n",
       "1        1876  5/16/2021 17:2:31                             comcast   \n",
       "2          40                NaN  point broadband fiber holding  llc   \n",
       "5        1267                NaN          charter communications inc   \n",
       "6         -33   4/8/2018 16:24:2                                 NaN   \n",
       "\n",
       "       RGN_NAME STATE_PRVNC_TXT  ... ACTN_CD ACTN_INTNL_TXT TRAN_TYPE_CD  \\\n",
       "0     southwest      california  ...  SCHPMT     P2P_COMMIT          P2P   \n",
       "1      mountain        colorado  ...  SCHPMT     P2P_COMMIT          P2P   \n",
       "2  mid atlantic        virginia  ...  SCHPMT     P2P_COMMIT          P2P   \n",
       "5     southwest      california  ...  SCHPMT     P2P_COMMIT          P2P   \n",
       "6           NaN             NaN  ...  SCHPMT     P2P_COMMIT          P2P   \n",
       "\n",
       "    ACTVY_DT  FRAUD_NONFRAUD alert_code auth_code device_code tran_hour  \\\n",
       "0   1/8/2021               1          0         4           0        11   \n",
       "1  2/27/2021               1          1         4           1         7   \n",
       "2  4/22/2021               1          0         4           1        11   \n",
       "5  6/25/2021               0          0         1          -1        17   \n",
       "6  3/29/2021               1          0         4           1         7   \n",
       "\n",
       "  cust_year  \n",
       "0      2011  \n",
       "1      2001  \n",
       "2      1999  \n",
       "5      2020  \n",
       "6      2004  \n",
       "\n",
       "[5 rows x 30 columns]"
      ]
     },
     "execution_count": 156,
     "metadata": {},
     "output_type": "execute_result"
    }
   ],
   "source": [
    "dftest1 = dftest[dftest.CUST_AGE < 60]\n",
    "dftest1.head()"
   ]
  },
  {
   "cell_type": "code",
   "execution_count": 157,
   "id": "9912ee93-4b10-4ca9-b116-99e4531f993f",
   "metadata": {},
   "outputs": [
    {
     "data": {
      "text/plain": [
       "1    2526\n",
       "0     531\n",
       "Name: FRAUD_NONFRAUD, dtype: int64"
      ]
     },
     "execution_count": 157,
     "metadata": {},
     "output_type": "execute_result"
    }
   ],
   "source": [
    "dftest1.FRAUD_NONFRAUD.value_counts()"
   ]
  },
  {
   "cell_type": "code",
   "execution_count": null,
   "id": "d892a335-d4d7-4a0f-a3a8-72d8823f558e",
   "metadata": {},
   "outputs": [],
   "source": []
  }
 ],
 "metadata": {
  "kernelspec": {
   "display_name": "Python 3",
   "language": "python",
   "name": "python3"
  },
  "language_info": {
   "codemirror_mode": {
    "name": "ipython",
    "version": 3
   },
   "file_extension": ".py",
   "mimetype": "text/x-python",
   "name": "python",
   "nbconvert_exporter": "python",
   "pygments_lexer": "ipython3",
   "version": "3.8.8"
  }
 },
 "nbformat": 4,
 "nbformat_minor": 5
}
